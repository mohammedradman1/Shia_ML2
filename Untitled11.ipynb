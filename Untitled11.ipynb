{
  "nbformat": 4,
  "nbformat_minor": 0,
  "metadata": {
    "colab": {
      "provenance": [],
      "authorship_tag": "ABX9TyOZyo9Dw7sk4NSvBPXzaozH",
      "include_colab_link": true
    },
    "kernelspec": {
      "name": "python3",
      "display_name": "Python 3"
    },
    "language_info": {
      "name": "python"
    }
  },
  "cells": [
    {
      "cell_type": "markdown",
      "metadata": {
        "id": "view-in-github",
        "colab_type": "text"
      },
      "source": [
        "<a href=\"https://colab.research.google.com/github/mohammedradman1/Shia_ML2/blob/main/Untitled11.ipynb\" target=\"_parent\"><img src=\"https://colab.research.google.com/assets/colab-badge.svg\" alt=\"Open In Colab\"/></a>"
      ]
    },
    {
      "cell_type": "code",
      "execution_count": 1,
      "metadata": {
        "colab": {
          "base_uri": "https://localhost:8080/"
        },
        "id": "TgeMLBJPJ2A1",
        "outputId": "48cf5290-2dde-45c2-a76a-76c2c754392d"
      },
      "outputs": [
        {
          "output_type": "stream",
          "name": "stdout",
          "text": [
            "--2023-12-23 10:15:58--  https://github.com/TariqAi/Mall-Customer-Segmentation-Clustering-/blob/main/Mall_Customers.csv\n",
            "Resolving github.com (github.com)... 140.82.113.3\n",
            "Connecting to github.com (github.com)|140.82.113.3|:443... connected.\n",
            "HTTP request sent, awaiting response... 200 OK\n",
            "Length: 10778 (11K) [text/plain]\n",
            "Saving to: ‘Mall_Customers.csv’\n",
            "\n",
            "\rMall_Customers.csv    0%[                    ]       0  --.-KB/s               \rMall_Customers.csv  100%[===================>]  10.53K  --.-KB/s    in 0.02s   \n",
            "\n",
            "2023-12-23 10:15:58 (428 KB/s) - ‘Mall_Customers.csv’ saved [10778/10778]\n",
            "\n"
          ]
        }
      ],
      "source": [
        "!wget https://github.com/TariqAi/Mall-Customer-Segmentation-Clustering-/blob/main/Mall_Customers.csv"
      ]
    },
    {
      "cell_type": "code",
      "source": [
        "!wget https://github.com/mohammedradman1/Shia_ML2/blob/main/ThrowbackDataThursday%20Week%2011%20-%20Film%20Genre%20Stats.csv"
      ],
      "metadata": {
        "colab": {
          "base_uri": "https://localhost:8080/"
        },
        "id": "oCEQjJ1dLPT1",
        "outputId": "07ca57f6-fc30-4416-d80b-6b71a79b4e7d"
      },
      "execution_count": 2,
      "outputs": [
        {
          "output_type": "stream",
          "name": "stdout",
          "text": [
            "--2023-12-23 10:16:25--  https://github.com/mohammedradman1/Shia_ML2/blob/main/ThrowbackDataThursday%20Week%2011%20-%20Film%20Genre%20Stats.csv\n",
            "Resolving github.com (github.com)... 140.82.114.4\n",
            "Connecting to github.com (github.com)|140.82.114.4|:443... connected.\n",
            "HTTP request sent, awaiting response... 200 OK\n",
            "Length: 39834 (39K) [text/plain]\n",
            "Saving to: ‘ThrowbackDataThursday Week 11 - Film Genre Stats.csv’\n",
            "\n",
            "ThrowbackDataThursd 100%[===================>]  38.90K  --.-KB/s    in 0.05s   \n",
            "\n",
            "2023-12-23 10:16:25 (761 KB/s) - ‘ThrowbackDataThursday Week 11 - Film Genre Stats.csv’ saved [39834/39834]\n",
            "\n"
          ]
        }
      ]
    }
  ]
}